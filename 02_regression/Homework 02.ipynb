{
 "cells": [
  {
   "cell_type": "markdown",
   "id": "7e7091b7-f393-49d3-aa59-3c1bf89a2d8e",
   "metadata": {},
   "source": [
    "## Homework 02_regression"
   ]
  },
  {
   "cell_type": "markdown",
   "id": "c648efa9-4dcb-425d-b6d3-576f41a00f8f",
   "metadata": {},
   "source": [
    "### Obtengo datos"
   ]
  },
  {
   "cell_type": "code",
   "execution_count": 1,
   "id": "cef07b38-b7fc-474a-acdf-552428cb53d5",
   "metadata": {},
   "outputs": [],
   "source": [
    "import pandas as pd\n",
    "import numpy as np\n",
    "import matplotlib.pyplot as plt\n",
    "import seaborn as sns\n",
    " \n",
    "# this line is needed to display the plots in notebooks\n",
    "%matplotlib inline"
   ]
  },
  {
   "cell_type": "code",
   "execution_count": 2,
   "id": "f685e728-96e9-495a-9b5c-8c64073a08b0",
   "metadata": {},
   "outputs": [],
   "source": [
    "data ='https://raw.githubusercontent.com/alexeygrigorev/datasets/master/laptops.csv'"
   ]
  },
  {
   "cell_type": "code",
   "execution_count": 3,
   "id": "9085fb9f-97bd-41ae-900e-396d4d45b103",
   "metadata": {},
   "outputs": [
    {
     "name": "stdout",
     "output_type": "stream",
     "text": [
      "--2025-08-18 12:00:42--  https://raw.githubusercontent.com/alexeygrigorev/datasets/master/laptops.csv\n",
      "Resolving raw.githubusercontent.com (raw.githubusercontent.com)... 185.199.111.133, 185.199.110.133, 185.199.109.133, ...\n",
      "Connecting to raw.githubusercontent.com (raw.githubusercontent.com)|185.199.111.133|:443... connected.\n",
      "HTTP request sent, awaiting response... 200 OK\n",
      "Length: 298573 (292K) [text/plain]\n",
      "Saving to: ‘laptops.csv.2’\n",
      "\n",
      "laptops.csv.2       100%[===================>] 291.58K  --.-KB/s    in 0.02s   \n",
      "\n",
      "2025-08-18 12:00:42 (18.0 MB/s) - ‘laptops.csv.2’ saved [298573/298573]\n",
      "\n"
     ]
    }
   ],
   "source": [
    "!wget $data"
   ]
  },
  {
   "cell_type": "code",
   "execution_count": 4,
   "id": "f1445cb0-2192-42d3-b418-668fa3288d0b",
   "metadata": {},
   "outputs": [],
   "source": [
    "df = pd.read_csv(data)"
   ]
  },
  {
   "cell_type": "code",
   "execution_count": 5,
   "id": "6bbaaa0b-2c57-448c-aa1f-ccf1fae846e2",
   "metadata": {},
   "outputs": [
    {
     "data": {
      "text/html": [
       "<div>\n",
       "<style scoped>\n",
       "    .dataframe tbody tr th:only-of-type {\n",
       "        vertical-align: middle;\n",
       "    }\n",
       "\n",
       "    .dataframe tbody tr th {\n",
       "        vertical-align: top;\n",
       "    }\n",
       "\n",
       "    .dataframe thead th {\n",
       "        text-align: right;\n",
       "    }\n",
       "</style>\n",
       "<table border=\"1\" class=\"dataframe\">\n",
       "  <thead>\n",
       "    <tr style=\"text-align: right;\">\n",
       "      <th></th>\n",
       "      <th>Laptop</th>\n",
       "      <th>Status</th>\n",
       "      <th>Brand</th>\n",
       "      <th>Model</th>\n",
       "      <th>CPU</th>\n",
       "      <th>RAM</th>\n",
       "      <th>Storage</th>\n",
       "      <th>Storage type</th>\n",
       "      <th>GPU</th>\n",
       "      <th>Screen</th>\n",
       "      <th>Touch</th>\n",
       "      <th>Final Price</th>\n",
       "    </tr>\n",
       "  </thead>\n",
       "  <tbody>\n",
       "    <tr>\n",
       "      <th>0</th>\n",
       "      <td>ASUS ExpertBook B1 B1502CBA-EJ0436X Intel Core...</td>\n",
       "      <td>New</td>\n",
       "      <td>Asus</td>\n",
       "      <td>ExpertBook</td>\n",
       "      <td>Intel Core i5</td>\n",
       "      <td>8</td>\n",
       "      <td>512</td>\n",
       "      <td>SSD</td>\n",
       "      <td>NaN</td>\n",
       "      <td>15.6</td>\n",
       "      <td>No</td>\n",
       "      <td>1009.0</td>\n",
       "    </tr>\n",
       "    <tr>\n",
       "      <th>1</th>\n",
       "      <td>Alurin Go Start Intel Celeron N4020/8GB/256GB ...</td>\n",
       "      <td>New</td>\n",
       "      <td>Alurin</td>\n",
       "      <td>Go</td>\n",
       "      <td>Intel Celeron</td>\n",
       "      <td>8</td>\n",
       "      <td>256</td>\n",
       "      <td>SSD</td>\n",
       "      <td>NaN</td>\n",
       "      <td>15.6</td>\n",
       "      <td>No</td>\n",
       "      <td>299.0</td>\n",
       "    </tr>\n",
       "    <tr>\n",
       "      <th>2</th>\n",
       "      <td>ASUS ExpertBook B1 B1502CBA-EJ0424X Intel Core...</td>\n",
       "      <td>New</td>\n",
       "      <td>Asus</td>\n",
       "      <td>ExpertBook</td>\n",
       "      <td>Intel Core i3</td>\n",
       "      <td>8</td>\n",
       "      <td>256</td>\n",
       "      <td>SSD</td>\n",
       "      <td>NaN</td>\n",
       "      <td>15.6</td>\n",
       "      <td>No</td>\n",
       "      <td>789.0</td>\n",
       "    </tr>\n",
       "  </tbody>\n",
       "</table>\n",
       "</div>"
      ],
      "text/plain": [
       "                                              Laptop Status   Brand  \\\n",
       "0  ASUS ExpertBook B1 B1502CBA-EJ0436X Intel Core...    New    Asus   \n",
       "1  Alurin Go Start Intel Celeron N4020/8GB/256GB ...    New  Alurin   \n",
       "2  ASUS ExpertBook B1 B1502CBA-EJ0424X Intel Core...    New    Asus   \n",
       "\n",
       "        Model            CPU  RAM  Storage Storage type  GPU  Screen Touch  \\\n",
       "0  ExpertBook  Intel Core i5    8      512          SSD  NaN    15.6    No   \n",
       "1          Go  Intel Celeron    8      256          SSD  NaN    15.6    No   \n",
       "2  ExpertBook  Intel Core i3    8      256          SSD  NaN    15.6    No   \n",
       "\n",
       "   Final Price  \n",
       "0       1009.0  \n",
       "1        299.0  \n",
       "2        789.0  "
      ]
     },
     "execution_count": 5,
     "metadata": {},
     "output_type": "execute_result"
    }
   ],
   "source": [
    "df.head(3)"
   ]
  },
  {
   "cell_type": "markdown",
   "id": "56faa9c0-686d-4f00-b555-8ea5357eed15",
   "metadata": {},
   "source": [
    "### Preparo datos "
   ]
  },
  {
   "cell_type": "code",
   "execution_count": 6,
   "id": "d3655091-7559-4632-81bc-6b33ae081f5b",
   "metadata": {},
   "outputs": [],
   "source": [
    "df.columns = df.columns.str.lower().str.replace(' ','_')"
   ]
  },
  {
   "cell_type": "code",
   "execution_count": 7,
   "id": "9a97b77f-7819-4f47-bade-40dd8a1b737a",
   "metadata": {},
   "outputs": [
    {
     "data": {
      "text/html": [
       "<div>\n",
       "<style scoped>\n",
       "    .dataframe tbody tr th:only-of-type {\n",
       "        vertical-align: middle;\n",
       "    }\n",
       "\n",
       "    .dataframe tbody tr th {\n",
       "        vertical-align: top;\n",
       "    }\n",
       "\n",
       "    .dataframe thead th {\n",
       "        text-align: right;\n",
       "    }\n",
       "</style>\n",
       "<table border=\"1\" class=\"dataframe\">\n",
       "  <thead>\n",
       "    <tr style=\"text-align: right;\">\n",
       "      <th></th>\n",
       "      <th>laptop</th>\n",
       "      <th>status</th>\n",
       "      <th>brand</th>\n",
       "      <th>model</th>\n",
       "      <th>cpu</th>\n",
       "      <th>ram</th>\n",
       "      <th>storage</th>\n",
       "      <th>storage_type</th>\n",
       "      <th>gpu</th>\n",
       "      <th>screen</th>\n",
       "      <th>touch</th>\n",
       "      <th>final_price</th>\n",
       "    </tr>\n",
       "  </thead>\n",
       "  <tbody>\n",
       "    <tr>\n",
       "      <th>0</th>\n",
       "      <td>ASUS ExpertBook B1 B1502CBA-EJ0436X Intel Core...</td>\n",
       "      <td>New</td>\n",
       "      <td>Asus</td>\n",
       "      <td>ExpertBook</td>\n",
       "      <td>Intel Core i5</td>\n",
       "      <td>8</td>\n",
       "      <td>512</td>\n",
       "      <td>SSD</td>\n",
       "      <td>NaN</td>\n",
       "      <td>15.6</td>\n",
       "      <td>No</td>\n",
       "      <td>1009.0</td>\n",
       "    </tr>\n",
       "    <tr>\n",
       "      <th>1</th>\n",
       "      <td>Alurin Go Start Intel Celeron N4020/8GB/256GB ...</td>\n",
       "      <td>New</td>\n",
       "      <td>Alurin</td>\n",
       "      <td>Go</td>\n",
       "      <td>Intel Celeron</td>\n",
       "      <td>8</td>\n",
       "      <td>256</td>\n",
       "      <td>SSD</td>\n",
       "      <td>NaN</td>\n",
       "      <td>15.6</td>\n",
       "      <td>No</td>\n",
       "      <td>299.0</td>\n",
       "    </tr>\n",
       "  </tbody>\n",
       "</table>\n",
       "</div>"
      ],
      "text/plain": [
       "                                              laptop status   brand  \\\n",
       "0  ASUS ExpertBook B1 B1502CBA-EJ0436X Intel Core...    New    Asus   \n",
       "1  Alurin Go Start Intel Celeron N4020/8GB/256GB ...    New  Alurin   \n",
       "\n",
       "        model            cpu  ram  storage storage_type  gpu  screen touch  \\\n",
       "0  ExpertBook  Intel Core i5    8      512          SSD  NaN    15.6    No   \n",
       "1          Go  Intel Celeron    8      256          SSD  NaN    15.6    No   \n",
       "\n",
       "   final_price  \n",
       "0       1009.0  \n",
       "1        299.0  "
      ]
     },
     "execution_count": 7,
     "metadata": {},
     "output_type": "execute_result"
    }
   ],
   "source": [
    "df.head(2)"
   ]
  },
  {
   "cell_type": "code",
   "execution_count": 8,
   "id": "4902bacc-8d82-4ff8-aee0-ab31c3389fa4",
   "metadata": {},
   "outputs": [],
   "source": [
    "atributos = [ 'ram', 'storage', 'screen','final_price']"
   ]
  },
  {
   "cell_type": "code",
   "execution_count": 9,
   "id": "29fdc7e7-c8c2-4ef1-a7f3-2f448ba2c562",
   "metadata": {},
   "outputs": [],
   "source": [
    "df_0 = df"
   ]
  },
  {
   "cell_type": "code",
   "execution_count": 10,
   "id": "faa50d77-393d-41ca-a6fc-bfcffd20f0a8",
   "metadata": {},
   "outputs": [
    {
     "data": {
      "text/html": [
       "<div>\n",
       "<style scoped>\n",
       "    .dataframe tbody tr th:only-of-type {\n",
       "        vertical-align: middle;\n",
       "    }\n",
       "\n",
       "    .dataframe tbody tr th {\n",
       "        vertical-align: top;\n",
       "    }\n",
       "\n",
       "    .dataframe thead th {\n",
       "        text-align: right;\n",
       "    }\n",
       "</style>\n",
       "<table border=\"1\" class=\"dataframe\">\n",
       "  <thead>\n",
       "    <tr style=\"text-align: right;\">\n",
       "      <th></th>\n",
       "      <th>laptop</th>\n",
       "      <th>status</th>\n",
       "      <th>brand</th>\n",
       "      <th>model</th>\n",
       "      <th>cpu</th>\n",
       "      <th>ram</th>\n",
       "      <th>storage</th>\n",
       "      <th>storage_type</th>\n",
       "      <th>gpu</th>\n",
       "      <th>screen</th>\n",
       "      <th>touch</th>\n",
       "      <th>final_price</th>\n",
       "    </tr>\n",
       "  </thead>\n",
       "  <tbody>\n",
       "    <tr>\n",
       "      <th>0</th>\n",
       "      <td>ASUS ExpertBook B1 B1502CBA-EJ0436X Intel Core...</td>\n",
       "      <td>New</td>\n",
       "      <td>Asus</td>\n",
       "      <td>ExpertBook</td>\n",
       "      <td>Intel Core i5</td>\n",
       "      <td>8</td>\n",
       "      <td>512</td>\n",
       "      <td>SSD</td>\n",
       "      <td>NaN</td>\n",
       "      <td>15.6</td>\n",
       "      <td>No</td>\n",
       "      <td>1009.0</td>\n",
       "    </tr>\n",
       "    <tr>\n",
       "      <th>1</th>\n",
       "      <td>Alurin Go Start Intel Celeron N4020/8GB/256GB ...</td>\n",
       "      <td>New</td>\n",
       "      <td>Alurin</td>\n",
       "      <td>Go</td>\n",
       "      <td>Intel Celeron</td>\n",
       "      <td>8</td>\n",
       "      <td>256</td>\n",
       "      <td>SSD</td>\n",
       "      <td>NaN</td>\n",
       "      <td>15.6</td>\n",
       "      <td>No</td>\n",
       "      <td>299.0</td>\n",
       "    </tr>\n",
       "  </tbody>\n",
       "</table>\n",
       "</div>"
      ],
      "text/plain": [
       "                                              laptop status   brand  \\\n",
       "0  ASUS ExpertBook B1 B1502CBA-EJ0436X Intel Core...    New    Asus   \n",
       "1  Alurin Go Start Intel Celeron N4020/8GB/256GB ...    New  Alurin   \n",
       "\n",
       "        model            cpu  ram  storage storage_type  gpu  screen touch  \\\n",
       "0  ExpertBook  Intel Core i5    8      512          SSD  NaN    15.6    No   \n",
       "1          Go  Intel Celeron    8      256          SSD  NaN    15.6    No   \n",
       "\n",
       "   final_price  \n",
       "0       1009.0  \n",
       "1        299.0  "
      ]
     },
     "execution_count": 10,
     "metadata": {},
     "output_type": "execute_result"
    }
   ],
   "source": [
    "df_0.head(2)"
   ]
  },
  {
   "cell_type": "code",
   "execution_count": 11,
   "id": "e2debecf-a627-4858-83ca-b1f4238fd0fc",
   "metadata": {},
   "outputs": [],
   "source": [
    "df = df[atributos]"
   ]
  },
  {
   "cell_type": "code",
   "execution_count": 12,
   "id": "fc820f55-08ae-490f-8c01-6593ceb38340",
   "metadata": {},
   "outputs": [
    {
     "data": {
      "text/html": [
       "<div>\n",
       "<style scoped>\n",
       "    .dataframe tbody tr th:only-of-type {\n",
       "        vertical-align: middle;\n",
       "    }\n",
       "\n",
       "    .dataframe tbody tr th {\n",
       "        vertical-align: top;\n",
       "    }\n",
       "\n",
       "    .dataframe thead th {\n",
       "        text-align: right;\n",
       "    }\n",
       "</style>\n",
       "<table border=\"1\" class=\"dataframe\">\n",
       "  <thead>\n",
       "    <tr style=\"text-align: right;\">\n",
       "      <th></th>\n",
       "      <th>ram</th>\n",
       "      <th>storage</th>\n",
       "      <th>screen</th>\n",
       "      <th>final_price</th>\n",
       "    </tr>\n",
       "  </thead>\n",
       "  <tbody>\n",
       "    <tr>\n",
       "      <th>0</th>\n",
       "      <td>8</td>\n",
       "      <td>512</td>\n",
       "      <td>15.6</td>\n",
       "      <td>1009.0</td>\n",
       "    </tr>\n",
       "    <tr>\n",
       "      <th>1</th>\n",
       "      <td>8</td>\n",
       "      <td>256</td>\n",
       "      <td>15.6</td>\n",
       "      <td>299.0</td>\n",
       "    </tr>\n",
       "  </tbody>\n",
       "</table>\n",
       "</div>"
      ],
      "text/plain": [
       "   ram  storage  screen  final_price\n",
       "0    8      512    15.6       1009.0\n",
       "1    8      256    15.6        299.0"
      ]
     },
     "execution_count": 12,
     "metadata": {},
     "output_type": "execute_result"
    }
   ],
   "source": [
    "df.head(2)"
   ]
  },
  {
   "cell_type": "markdown",
   "id": "0c74cbd5-b372-40be-a337-ac04385078aa",
   "metadata": {},
   "source": [
    "## EDA"
   ]
  },
  {
   "cell_type": "code",
   "execution_count": 13,
   "id": "e7ea75eb-47ca-4ae8-b6bf-80a1cbbf5c0a",
   "metadata": {},
   "outputs": [
    {
     "data": {
      "text/plain": [
       "<Axes: xlabel='final_price', ylabel='Count'>"
      ]
     },
     "execution_count": 13,
     "metadata": {},
     "output_type": "execute_result"
    },
    {
     "data": {
      "image/png": "[encoded data removed]",
      "text/plain": [
       "<Figure size 640x480 with 1 Axes>"
      ]
     },
     "metadata": {},
     "output_type": "display_data"
    }
   ],
   "source": [
    "sns.histplot(df.final_price)"
   ]
  },
  {
   "cell_type": "markdown",
   "id": "243caf27-f42c-448d-89b4-65b2aebc9450",
   "metadata": {},
   "source": [
    "#### Question 1"
   ]
  },
  {
   "cell_type": "code",
   "execution_count": 14,
   "id": "20dbea6f-8451-40f7-b7a9-14df1f395b54",
   "metadata": {},
   "outputs": [
    {
     "data": {
      "text/plain": [
       "ram            0\n",
       "storage        0\n",
       "screen         4\n",
       "final_price    0\n",
       "dtype: int64"
      ]
     },
     "execution_count": 14,
     "metadata": {},
     "output_type": "execute_result"
    }
   ],
   "source": [
    "df.isnull().sum()\n",
    "## Rta: Es screen"
   ]
  },
  {
   "cell_type": "markdown",
   "id": "33940cbc-d02a-41d5-9138-ad33d714d428",
   "metadata": {},
   "source": [
    "#### Question 2"
   ]
  },
  {
   "cell_type": "code",
   "execution_count": 15,
   "id": "7e09485e-1ea5-4d93-aa49-d58c9f5e1245",
   "metadata": {},
   "outputs": [
    {
     "data": {
      "text/html": [
       "<div>\n",
       "<style scoped>\n",
       "    .dataframe tbody tr th:only-of-type {\n",
       "        vertical-align: middle;\n",
       "    }\n",
       "\n",
       "    .dataframe tbody tr th {\n",
       "        vertical-align: top;\n",
       "    }\n",
       "\n",
       "    .dataframe thead th {\n",
       "        text-align: right;\n",
       "    }\n",
       "</style>\n",
       "<table border=\"1\" class=\"dataframe\">\n",
       "  <thead>\n",
       "    <tr style=\"text-align: right;\">\n",
       "      <th></th>\n",
       "      <th>ram</th>\n",
       "      <th>storage</th>\n",
       "      <th>screen</th>\n",
       "      <th>final_price</th>\n",
       "    </tr>\n",
       "  </thead>\n",
       "  <tbody>\n",
       "    <tr>\n",
       "      <th>count</th>\n",
       "      <td>2160.000000</td>\n",
       "      <td>2160.000000</td>\n",
       "      <td>2156.000000</td>\n",
       "      <td>2160.000000</td>\n",
       "    </tr>\n",
       "    <tr>\n",
       "      <th>mean</th>\n",
       "      <td>15.413889</td>\n",
       "      <td>596.294444</td>\n",
       "      <td>15.168112</td>\n",
       "      <td>1312.638509</td>\n",
       "    </tr>\n",
       "    <tr>\n",
       "      <th>std</th>\n",
       "      <td>9.867815</td>\n",
       "      <td>361.220506</td>\n",
       "      <td>1.203329</td>\n",
       "      <td>911.475417</td>\n",
       "    </tr>\n",
       "    <tr>\n",
       "      <th>min</th>\n",
       "      <td>4.000000</td>\n",
       "      <td>0.000000</td>\n",
       "      <td>10.100000</td>\n",
       "      <td>201.050000</td>\n",
       "    </tr>\n",
       "    <tr>\n",
       "      <th>25%</th>\n",
       "      <td>8.000000</td>\n",
       "      <td>256.000000</td>\n",
       "      <td>14.000000</td>\n",
       "      <td>661.082500</td>\n",
       "    </tr>\n",
       "    <tr>\n",
       "      <th>50%</th>\n",
       "      <td>16.000000</td>\n",
       "      <td>512.000000</td>\n",
       "      <td>15.600000</td>\n",
       "      <td>1031.945000</td>\n",
       "    </tr>\n",
       "    <tr>\n",
       "      <th>75%</th>\n",
       "      <td>16.000000</td>\n",
       "      <td>1000.000000</td>\n",
       "      <td>15.600000</td>\n",
       "      <td>1708.970000</td>\n",
       "    </tr>\n",
       "    <tr>\n",
       "      <th>max</th>\n",
       "      <td>128.000000</td>\n",
       "      <td>4000.000000</td>\n",
       "      <td>18.000000</td>\n",
       "      <td>7150.470000</td>\n",
       "    </tr>\n",
       "  </tbody>\n",
       "</table>\n",
       "</div>"
      ],
      "text/plain": [
       "               ram      storage       screen  final_price\n",
       "count  2160.000000  2160.000000  2156.000000  2160.000000\n",
       "mean     15.413889   596.294444    15.168112  1312.638509\n",
       "std       9.867815   361.220506     1.203329   911.475417\n",
       "min       4.000000     0.000000    10.100000   201.050000\n",
       "25%       8.000000   256.000000    14.000000   661.082500\n",
       "50%      16.000000   512.000000    15.600000  1031.945000\n",
       "75%      16.000000  1000.000000    15.600000  1708.970000\n",
       "max     128.000000  4000.000000    18.000000  7150.470000"
      ]
     },
     "execution_count": 15,
     "metadata": {},
     "output_type": "execute_result"
    }
   ],
   "source": [
    "df.describe()\n",
    "## Rta 16.00"
   ]
  },
  {
   "cell_type": "markdown",
   "id": "5597289b-244f-4a0b-9b18-a1e2500b0355",
   "metadata": {},
   "source": [
    "## Dividir el dataset"
   ]
  },
  {
   "cell_type": "code",
   "execution_count": 16,
   "id": "97618855-29c0-48c4-ba1a-11291bbc64a7",
   "metadata": {},
   "outputs": [
    {
     "data": {
      "text/plain": [
       "(2160, 2160, 432, 432, 1296)"
      ]
     },
     "execution_count": 16,
     "metadata": {},
     "output_type": "execute_result"
    }
   ],
   "source": [
    "n = len(df)\n",
    "n_val = n_test = int(n * 0.2)\n",
    "n_train = n - n_val - n_test\n",
    "n , n_val+n_test+n_train, n_val, n_test, n_train"
   ]
  },
  {
   "cell_type": "code",
   "execution_count": 64,
   "id": "c7bf2906-09ad-4818-91b1-2f6ed98201c1",
   "metadata": {},
   "outputs": [],
   "source": [
    "idx = np.arange(n)\n",
    "np.random.seed(0)\n",
    "np.random.shuffle(idx)"
   ]
  },
  {
   "cell_type": "code",
   "execution_count": 65,
   "id": "6c4b9253-d199-4424-a402-c2c0563d341b",
   "metadata": {},
   "outputs": [],
   "source": [
    "# Create shuffled datasets with correct size\n",
    "df_train = df.iloc[idx[:n_train]]\n",
    "df_val = df.iloc[idx[n_train:n_train + n_val]]\n",
    "df_test = df.iloc[idx[n_train + n_val:]]"
   ]
  },
  {
   "cell_type": "code",
   "execution_count": 66,
   "id": "07927e20-e63f-49a2-9c97-7fffda0ed213",
   "metadata": {},
   "outputs": [],
   "source": [
    "df_train = df_train.reset_index(drop=True)\n",
    "df_val = df_val.reset_index(drop=True)\n",
    "df_test = df_test.reset_index(drop=True)"
   ]
  },
  {
   "cell_type": "code",
   "execution_count": 67,
   "id": "9715eafd-7aa1-4e06-8447-36a4fb2906b8",
   "metadata": {},
   "outputs": [],
   "source": [
    "y_train = df_train.final_price.values\n",
    "y_val = df_val.final_price.values\n",
    "y_test = df_test.final_price.values"
   ]
  },
  {
   "cell_type": "code",
   "execution_count": 68,
   "id": "7a49ce0e-701c-4f04-ad10-cccbcbba7ab5",
   "metadata": {},
   "outputs": [],
   "source": [
    "del df_train['final_price']\n",
    "del df_val['final_price']\n",
    "del df_test['final_price']"
   ]
  },
  {
   "cell_type": "markdown",
   "id": "ac6bfa05-e700-46dc-9406-b61ad3f5c5a1",
   "metadata": {},
   "source": [
    "#### Question 3"
   ]
  },
  {
   "cell_type": "markdown",
   "id": "d87417b4-704e-4830-a75c-5d51a7b2e205",
   "metadata": {},
   "source": [
    "##### Reemplazo los null con 0 "
   ]
  },
  {
   "cell_type": "code",
   "execution_count": 69,
   "id": "242aa190-91c6-4f2a-9fd4-7f0f80ec3bed",
   "metadata": {},
   "outputs": [],
   "source": [
    "## Preparo X\n",
    "def prepare_X(df):\n",
    "    df_num = df.fillna(0)\n",
    "    # extracting the Numpy array\n",
    "    X = df_num.values\n",
    "    return X"
   ]
  },
  {
   "cell_type": "code",
   "execution_count": 70,
   "id": "3f90c3de-cb6e-4898-bfb8-5df248e8f41f",
   "metadata": {},
   "outputs": [],
   "source": [
    "### Defino el Modelo\n",
    "\n",
    "def train_linear_regression_reg(X, y):\n",
    "    ones = np.ones(X.shape[0])\n",
    "    X = np.column_stack([ones, X])\n",
    "     \n",
    "    XTX = X.T.dot(X)\n",
    "    XTX = XTX + np.eye(XTX.shape[0])\n",
    "     \n",
    "    XTX_inv = np.linalg.inv(XTX)\n",
    "    w_full = XTX_inv.dot(X.T).dot(y)\n",
    "     \n",
    "    return w_full[0], w_full[1:]"
   ]
  },
  {
   "cell_type": "code",
   "execution_count": 71,
   "id": "360973ff-146c-4c0f-9346-e8a68cccfecb",
   "metadata": {},
   "outputs": [],
   "source": [
    "## Defino RMSE\n",
    "\n",
    "def rmse(y, y_pred):\n",
    "    se = (y - y_pred) ** 2\n",
    "    mse = se.mean()\n",
    "    return np.sqrt(mse)"
   ]
  },
  {
   "cell_type": "code",
   "execution_count": 72,
   "id": "9bc61c67-418f-4834-9836-ce0bf83fbf0c",
   "metadata": {},
   "outputs": [
    {
     "data": {
      "text/plain": [
       "np.float64(565.6599190104985)"
      ]
     },
     "execution_count": 72,
     "metadata": {},
     "output_type": "execute_result"
    }
   ],
   "source": [
    "X_train = prepare_X(df_train)\n",
    "w0, w = train_linear_regression_reg(X_train, y_train)\n",
    " \n",
    "X_val = prepare_X(df_val)\n",
    "y_pred = w0 + X_val.dot(w)\n",
    " \n",
    "rmse(y_val, y_pred)"
   ]
  },
  {
   "cell_type": "markdown",
   "id": "05ebac9a-14b6-4022-97d8-ccf2faf51b71",
   "metadata": {},
   "source": [
    "##### Reemplazo los null con mean"
   ]
  },
  {
   "cell_type": "code",
   "execution_count": 29,
   "id": "fdc165c5-5620-4980-8596-6a70a2f74f94",
   "metadata": {},
   "outputs": [],
   "source": [
    "mean = df.screen.mean()"
   ]
  },
  {
   "cell_type": "code",
   "execution_count": 30,
   "id": "9b87f25a-e0e8-4a37-bacf-435597e12cd7",
   "metadata": {},
   "outputs": [],
   "source": [
    "## Preparo X\n",
    "def prepare_X(df):\n",
    "    df_num = df.fillna(mean)\n",
    "    # extracting the Numpy array\n",
    "    X = df_num.values\n",
    "    return X"
   ]
  },
  {
   "cell_type": "code",
   "execution_count": 31,
   "id": "407fe895-2a9d-417f-b81e-75e7a35f0fba",
   "metadata": {},
   "outputs": [
    {
     "data": {
      "text/plain": [
       "np.float64(599.6732181319123)"
      ]
     },
     "execution_count": 31,
     "metadata": {},
     "output_type": "execute_result"
    }
   ],
   "source": [
    "X_train = prepare_X(df_train)\n",
    "w0, w = train_linear_regression_reg(X_train, y_train)\n",
    " \n",
    "X_val = prepare_X(df_val)\n",
    "y_pred = w0 + X_val.dot(w)\n",
    " \n",
    "rmse(y_val, y_pred)"
   ]
  },
  {
   "cell_type": "markdown",
   "id": "19601920-5bda-415e-87a4-c567bd7d1ac7",
   "metadata": {},
   "source": [
    "RTA Question 3: Es mejor opción reemplazar con 0"
   ]
  },
  {
   "cell_type": "markdown",
   "id": "ef686116-29ee-4449-b986-60e630c866a2",
   "metadata": {},
   "source": [
    "### Question 4"
   ]
  },
  {
   "cell_type": "code",
   "execution_count": 33,
   "id": "6188a2f3-76a8-416e-9a4f-b68ae7ac811c",
   "metadata": {},
   "outputs": [],
   "source": [
    "## Preparo X reemplazando null con 0\n",
    "def prepare_X(df):\n",
    "    df= df.fillna(0)\n",
    "    # extracting the Numpy array\n",
    "    X = df.values\n",
    "    return X"
   ]
  },
  {
   "cell_type": "code",
   "execution_count": 35,
   "id": "c27e85a6-1dad-4fd4-bafd-fb8a0bc18c96",
   "metadata": {},
   "outputs": [],
   "source": [
    "# reg = regularized\n",
    "# parameter r = short for regularization\n",
    "def train_linear_regression_reg(X, y, r=0.001):\n",
    "    ones = np.ones(X.shape[0])\n",
    "    X = np.column_stack([ones, X])\n",
    "     \n",
    "    XTX = X.T.dot(X)\n",
    "    XTX = XTX + r*np.eye(XTX.shape[0])\n",
    "     \n",
    "    XTX_inv = np.linalg.inv(XTX)\n",
    "    w_full = XTX_inv.dot(X.T).dot(y)\n",
    "     \n",
    "    return w_full[0], w_full[1:]"
   ]
  },
  {
   "cell_type": "code",
   "execution_count": 37,
   "id": "2e1c9458-31c2-45b9-bfbd-5d167125698c",
   "metadata": {},
   "outputs": [
    {
     "name": "stdout",
     "output_type": "stream",
     "text": [
      "reg parameter:  0 bias term:  676.8954853003995 rmse:  597.36\n",
      "reg parameter:  0.01 bias term:  676.2736817205587 rmse:  597.36\n",
      "reg parameter:  0.1 bias term:  670.7284836314063 rmse:  597.35\n",
      "reg parameter:  1 bias term:  619.9030834108207 rmse:  597.21\n",
      "reg parameter:  5 bias term:  463.7771697142356 rmse:  597.01\n",
      "reg parameter:  10 bias term:  352.79713367679835 rmse:  597.06\n",
      "reg parameter:  100 bias term:  66.92071440181994 rmse:  597.9\n"
     ]
    }
   ],
   "source": [
    "for r in [0, 0.01, 0.1, 1, 5, 10, 100]:\n",
    "    X_train = prepare_X(df_train)\n",
    "    w0, w = train_linear_regression_reg(X_train, y_train, r=r)\n",
    " \n",
    "    X_val = prepare_X(df_val)\n",
    "    y_pred = w0 + X_val.dot(w)\n",
    " \n",
    "    score = rmse(y_val, y_pred)\n",
    "     \n",
    "    print(\"reg parameter: \",r, \"bias term: \",w0, \"rmse: \",round(score,2))\n"
   ]
  },
  {
   "cell_type": "code",
   "execution_count": null,
   "id": "209ce1d9-ca8b-44a9-8397-e7e13aa1862c",
   "metadata": {},
   "outputs": [],
   "source": [
    "Rta Question 4: el r que mejor RMSE da es el de 5"
   ]
  },
  {
   "cell_type": "markdown",
   "id": "bdc417f6-36d7-49b5-96e3-07aa1102149d",
   "metadata": {},
   "source": [
    "### Question 5"
   ]
  },
  {
   "cell_type": "code",
   "execution_count": 73,
   "id": "4eda2743-2711-4eb5-8ce2-eeb06d48bc7d",
   "metadata": {},
   "outputs": [],
   "source": [
    "def split_dataset(s):\n",
    "    idx = np.arange(n)\n",
    "    np.random.seed(s)\n",
    "    np.random.shuffle(idx)\n",
    "\n",
    "    # Create shuffled datasets with correct size\n",
    "    df_train = df.iloc[idx[:n_train]]\n",
    "    df_val = df.iloc[idx[n_train:n_train + n_val]]\n",
    "    df_test = df.iloc[idx[n_train + n_val:]]\n",
    "\n",
    "    y_train = df_train.final_price.values\n",
    "    y_val = df_val.final_price.values\n",
    "    y_test = df_test.final_price.values\n",
    "\n",
    "    del df_train['final_price']\n",
    "    del df_val['final_price']\n",
    "    del df_test['final_price']\n",
    "\n",
    "    return df_train, df_val, df_test, y_train, y_val, y_test\n",
    "    "
   ]
  },
  {
   "cell_type": "code",
   "execution_count": 44,
   "id": "40575deb-0237-4c13-9984-dab1ac892a01",
   "metadata": {},
   "outputs": [],
   "source": [
    "### Defino el Modelo sin regularización\n",
    "\n",
    "def train_linear_regression_reg(X, y):\n",
    "    ones = np.ones(X.shape[0])\n",
    "    X = np.column_stack([ones, X])\n",
    "     \n",
    "    XTX = X.T.dot(X)\n",
    "    XTX = XTX + np.eye(XTX.shape[0])\n",
    "     \n",
    "    XTX_inv = np.linalg.inv(XTX)\n",
    "    w_full = XTX_inv.dot(X.T).dot(y)\n",
    "     \n",
    "    return w_full[0], w_full[1:]"
   ]
  },
  {
   "cell_type": "code",
   "execution_count": 75,
   "id": "c54b3cf6-6df4-4cd0-9387-7ccd8658d665",
   "metadata": {},
   "outputs": [
    {
     "name": "stdout",
     "output_type": "stream",
     "text": [
      "565.66\n",
      "636.94\n",
      "588.75\n",
      "597.69\n",
      "571.84\n",
      "573.28\n",
      "646.59\n",
      "551.14\n",
      "587.4\n",
      "576.3\n"
     ]
    }
   ],
   "source": [
    "\n",
    " for s in [0, 1, 2, 3, 4, 5, 6, 7, 8, 9]:\n",
    "    df_train, df_val, df_test, y_train, y_val, y_test = split_dataset(s)\n",
    "    X_train = prepare_X(df_train)\n",
    "     \n",
    "    w0, w = train_linear_regression_reg(X_train, y_train)\n",
    " \n",
    "    X_val = prepare_X(df_val)\n",
    "    y_pred = w0 + X_val.dot(w)\n",
    " \n",
    "    score = rmse(y_val, y_pred)\n",
    "\n",
    "    print(round(score,2))\n",
    "\n",
    "    "
   ]
  },
  {
   "cell_type": "code",
   "execution_count": 76,
   "id": "0035af86-59c7-49d5-b508-89a8be3dd44a",
   "metadata": {},
   "outputs": [],
   "source": [
    "R = [565.66,\n",
    "636.94,\n",
    "588.75,\n",
    "597.69,\n",
    "571.84,\n",
    "573.28,\n",
    "646.59,\n",
    "551.14,\n",
    "587.4,\n",
    "576.3]"
   ]
  },
  {
   "cell_type": "code",
   "execution_count": 77,
   "id": "342c17f1-2900-45f9-8317-7ecd3f60f8da",
   "metadata": {},
   "outputs": [
    {
     "data": {
      "text/plain": [
       "np.float64(28.932463928950146)"
      ]
     },
     "execution_count": 77,
     "metadata": {},
     "output_type": "execute_result"
    }
   ],
   "source": [
    "np.std(R)"
   ]
  },
  {
   "cell_type": "markdown",
   "id": "d8603ce3-22c7-454b-8802-9526fa370f5e",
   "metadata": {},
   "source": [
    "Rta question 5: el valor es 29.176"
   ]
  },
  {
   "cell_type": "markdown",
   "id": "50465224-3029-4753-a523-3946d70a5549",
   "metadata": {},
   "source": [
    "### Question 6"
   ]
  },
  {
   "cell_type": "code",
   "execution_count": 90,
   "id": "3a635582-d714-4ebb-a624-a0babcfe7887",
   "metadata": {},
   "outputs": [],
   "source": [
    "## Defino el modelo con regularización:\n",
    "\n",
    "def train_linear_regression_reg(X, y, r=0.001):\n",
    "    ones = np.ones(X.shape[0])\n",
    "    X = np.column_stack([ones, X])\n",
    "     \n",
    "    XTX = X.T.dot(X)\n",
    "    XTX = XTX + r*np.eye(XTX.shape[0])\n",
    "     \n",
    "    XTX_inv = np.linalg.inv(XTX)\n",
    "    w_full = XTX_inv.dot(X.T).dot(y)\n",
    "     \n",
    "    return w_full[0], w_full[1:]"
   ]
  },
  {
   "cell_type": "code",
   "execution_count": 81,
   "id": "5c7c5090-6a80-419b-b64e-b234d90dbdba",
   "metadata": {},
   "outputs": [],
   "source": [
    "def split_dataset():\n",
    "    idx = np.arange(n)\n",
    "    np.random.seed(9)\n",
    "    np.random.shuffle(idx)\n",
    "\n",
    "    # Create shuffled datasets with correct size\n",
    "    df_train = df.iloc[idx[:n_train]]\n",
    "    df_val = df.iloc[idx[n_train:n_train + n_val]]\n",
    "    df_test = df.iloc[idx[n_train + n_val:]]\n",
    "\n",
    "    y_train = df_train.final_price.values\n",
    "    y_val = df_val.final_price.values\n",
    "    y_test = df_test.final_price.values\n",
    "\n",
    "    del df_train['final_price']\n",
    "    del df_val['final_price']\n",
    "    del df_test['final_price']\n",
    "\n",
    "    return df_train, df_val, df_test, y_train, y_val, y_test"
   ]
  },
  {
   "cell_type": "code",
   "execution_count": 82,
   "id": "579d7648-ae80-4cf3-8bd8-a753658b5836",
   "metadata": {},
   "outputs": [],
   "source": [
    "df_full_train = pd.concat([df_train, df_val])"
   ]
  },
  {
   "cell_type": "code",
   "execution_count": 91,
   "id": "5e8e53a5-6872-49c8-b1f7-9d6f4839b350",
   "metadata": {},
   "outputs": [
    {
     "name": "stdout",
     "output_type": "stream",
     "text": [
      "608.61\n"
     ]
    }
   ],
   "source": [
    "X_full_train = prepare_X(df_full_train)\n",
    "y_full_train = np.concatenate([y_train, y_val])\n",
    "\n",
    "w0, w = train_linear_regression_reg(X_full_train, y_full_train, r=0.001)\n",
    " \n",
    "X_test = prepare_X(df_test)\n",
    "y_pred = w0 + X_test.dot(w)\n",
    " \n",
    "score = rmse(y_test, y_pred)\n",
    "\n",
    "print(round(score,2))"
   ]
  },
  {
   "cell_type": "markdown",
   "id": "09e5998f-dbc6-4036-8697-86299afe051c",
   "metadata": {},
   "source": [
    "RTA Question 6: el valor es 608.61 "
   ]
  }
 ],
 "metadata": {
  "kernelspec": {
   "display_name": "Python 3 (ipykernel)",
   "language": "python",
   "name": "python3"
  },
  "language_info": {
   "codemirror_mode": {
    "name": "ipython",
    "version": 3
   },
   "file_extension": ".py",
   "mimetype": "text/x-python",
   "name": "python",
   "nbconvert_exporter": "python",
   "pygments_lexer": "ipython3",
   "version": "3.12.1"
  }
 },
 "nbformat": 4,
 "nbformat_minor": 5
}
